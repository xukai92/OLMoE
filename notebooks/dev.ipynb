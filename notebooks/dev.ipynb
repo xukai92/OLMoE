{
 "cells": [
  {
   "cell_type": "code",
   "execution_count": 1,
   "metadata": {},
   "outputs": [],
   "source": [
    "import datasets"
   ]
  },
  {
   "cell_type": "code",
   "execution_count": null,
   "metadata": {},
   "outputs": [],
   "source": [
    "dsd = datasets.load_dataset(\"JeanKaddour/minipile\")\n",
    "\n",
    "print(dsd)"
   ]
  },
  {
   "cell_type": "code",
   "execution_count": null,
   "metadata": {},
   "outputs": [],
   "source": [
    "for split in [\"train\", \"validation\", \"test\"]:\n",
    "    ds = dsd[f\"{split}\"]\n",
    "    ds = ds.add_column(\"id\", [f\"{split}-{i}\" for i in range(len(ds))])\n",
    "    ds.to_json(\n",
    "        f\"/home/lab/moe/data/raw/minipile/{split}.jsonl\", orient=\"records\", lines=True\n",
    "    )\n"
   ]
  },
  {
   "cell_type": "markdown",
   "metadata": {},
   "source": [
    "---"
   ]
  },
  {
   "cell_type": "code",
   "execution_count": null,
   "metadata": {},
   "outputs": [],
   "source": [
    "Total number of parameters:         976,028,672 (1B)\n",
    "Number of non-embedding parameters: 924,517,376 (924M)\n",
    "Number of active parameters:        271,385,600 (271M)\n"
   ]
  },
  {
   "cell_type": "code",
   "execution_count": 7,
   "metadata": {},
   "outputs": [],
   "source": [
    "import torch as pt\n",
    "from transformers import OlmoeForCausalLM, AutoTokenizer\n",
    "DEVICE = pt.device(\"cpu\")\n",
    "# DEVICE = pt.device(\"cuda:0\")\n",
    "model_path = \"/home/lab/moe/artifacts/olmoe-small-dev\"\n",
    "moe = OlmoeForCausalLM.from_pretrained(model_path, torch_dtype=pt.float16).to(DEVICE)\n",
    "tok = AutoTokenizer.from_pretrained(model_path)"
   ]
  },
  {
   "cell_type": "code",
   "execution_count": null,
   "metadata": {},
   "outputs": [],
   "source": [
    "inputs = tok(\"Bitcoin is\", return_tensors=\"pt\")\n",
    "inputs = {k: v.to(DEVICE) for k, v in inputs.items()}\n",
    "out = moe.generate(**inputs, max_length=32, do_sample=True)\n",
    "print(tok.decode(out[0]))\n"
   ]
  },
  {
   "cell_type": "code",
   "execution_count": null,
   "metadata": {},
   "outputs": [],
   "source": []
  }
 ],
 "metadata": {
  "kernelspec": {
   "display_name": "olmo",
   "language": "python",
   "name": "python3"
  },
  "language_info": {
   "codemirror_mode": {
    "name": "ipython",
    "version": 3
   },
   "file_extension": ".py",
   "mimetype": "text/x-python",
   "name": "python",
   "nbconvert_exporter": "python",
   "pygments_lexer": "ipython3",
   "version": "3.10.16"
  }
 },
 "nbformat": 4,
 "nbformat_minor": 2
}
